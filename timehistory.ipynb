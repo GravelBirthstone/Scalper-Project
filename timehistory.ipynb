{
 "metadata": {
  "language_info": {
   "codemirror_mode": {
    "name": "ipython",
    "version": 3
   },
   "file_extension": ".py",
   "mimetype": "text/x-python",
   "name": "python",
   "nbconvert_exporter": "python",
   "pygments_lexer": "ipython3",
   "version": "3.9.0-final"
  },
  "orig_nbformat": 2,
  "kernelspec": {
   "name": "python3",
   "display_name": "Python 3"
  }
 },
 "nbformat": 4,
 "nbformat_minor": 2,
 "cells": [
  {
   "source": [
    "# Scalper's Statistics:  PlayStation 5\n",
    "### By Lee Thomas, Taylor Johnson, Alex Peña, and Paul Leonard\n",
    "#### December 2020"
   ],
   "cell_type": "markdown",
   "metadata": {}
  },
  {
   "source": [
    "##### Import related libraries"
   ],
   "cell_type": "markdown",
   "metadata": {}
  },
  {
   "cell_type": "code",
   "execution_count": 1,
   "metadata": {},
   "outputs": [],
   "source": [
    "import pandas as pd\n",
    "import numpy as np\n",
    "import matplotlib as mpl\n",
    "import matplotlib.pyplot as plt\n",
    "import seaborn as sns\n",
    "from sklearn.linear_model import LinearRegression\n"
   ]
  },
  {
   "source": [
    "##### Import data sets"
   ],
   "cell_type": "markdown",
   "metadata": {}
  },
  {
   "cell_type": "code",
   "execution_count": 2,
   "metadata": {},
   "outputs": [
    {
     "output_type": "error",
     "ename": "FileNotFoundError",
     "evalue": "[Errno 2] No such file or directory: './data/fake_ps5_ebay.csv'",
     "traceback": [
      "\u001b[0;31m---------------------------------------------------------------------------\u001b[0m",
      "\u001b[0;31mFileNotFoundError\u001b[0m                         Traceback (most recent call last)",
      "\u001b[0;32m<ipython-input-2-85b727f570b3>\u001b[0m in \u001b[0;36m<module>\u001b[0;34m\u001b[0m\n\u001b[0;32m----> 1\u001b[0;31m \u001b[0mdf_ebay\u001b[0m \u001b[0;34m=\u001b[0m \u001b[0mpd\u001b[0m\u001b[0;34m.\u001b[0m\u001b[0mread_csv\u001b[0m\u001b[0;34m(\u001b[0m\u001b[0;34m\"./data/fake_ps5_ebay.csv\"\u001b[0m\u001b[0;34m)\u001b[0m\u001b[0;34m\u001b[0m\u001b[0;34m\u001b[0m\u001b[0m\n\u001b[0m\u001b[1;32m      2\u001b[0m \u001b[0mdf_msrp\u001b[0m \u001b[0;34m=\u001b[0m \u001b[0mpd\u001b[0m\u001b[0;34m.\u001b[0m\u001b[0mread_csv\u001b[0m\u001b[0;34m(\u001b[0m\u001b[0;34m\"./data/fake_ps5_msrp.csv\"\u001b[0m\u001b[0;34m)\u001b[0m\u001b[0;34m\u001b[0m\u001b[0;34m\u001b[0m\u001b[0m\n\u001b[1;32m      3\u001b[0m \u001b[0mdf_real_ebay\u001b[0m \u001b[0;34m=\u001b[0m \u001b[0mpd\u001b[0m\u001b[0;34m.\u001b[0m\u001b[0mread_csv\u001b[0m\u001b[0;34m(\u001b[0m\u001b[0;34m\"./data/ebay_data.csv\"\u001b[0m\u001b[0;34m)\u001b[0m\u001b[0;34m\u001b[0m\u001b[0;34m\u001b[0m\u001b[0m\n",
      "\u001b[0;32m~/Code-Fellows/401_Python/Scalper-Project/.venv/lib/python3.9/site-packages/pandas/io/parsers.py\u001b[0m in \u001b[0;36mread_csv\u001b[0;34m(filepath_or_buffer, sep, delimiter, header, names, index_col, usecols, squeeze, prefix, mangle_dupe_cols, dtype, engine, converters, true_values, false_values, skipinitialspace, skiprows, skipfooter, nrows, na_values, keep_default_na, na_filter, verbose, skip_blank_lines, parse_dates, infer_datetime_format, keep_date_col, date_parser, dayfirst, cache_dates, iterator, chunksize, compression, thousands, decimal, lineterminator, quotechar, quoting, doublequote, escapechar, comment, encoding, dialect, error_bad_lines, warn_bad_lines, delim_whitespace, low_memory, memory_map, float_precision)\u001b[0m\n\u001b[1;32m    686\u001b[0m     )\n\u001b[1;32m    687\u001b[0m \u001b[0;34m\u001b[0m\u001b[0m\n\u001b[0;32m--> 688\u001b[0;31m     \u001b[0;32mreturn\u001b[0m \u001b[0m_read\u001b[0m\u001b[0;34m(\u001b[0m\u001b[0mfilepath_or_buffer\u001b[0m\u001b[0;34m,\u001b[0m \u001b[0mkwds\u001b[0m\u001b[0;34m)\u001b[0m\u001b[0;34m\u001b[0m\u001b[0;34m\u001b[0m\u001b[0m\n\u001b[0m\u001b[1;32m    689\u001b[0m \u001b[0;34m\u001b[0m\u001b[0m\n\u001b[1;32m    690\u001b[0m \u001b[0;34m\u001b[0m\u001b[0m\n",
      "\u001b[0;32m~/Code-Fellows/401_Python/Scalper-Project/.venv/lib/python3.9/site-packages/pandas/io/parsers.py\u001b[0m in \u001b[0;36m_read\u001b[0;34m(filepath_or_buffer, kwds)\u001b[0m\n\u001b[1;32m    452\u001b[0m \u001b[0;34m\u001b[0m\u001b[0m\n\u001b[1;32m    453\u001b[0m     \u001b[0;31m# Create the parser.\u001b[0m\u001b[0;34m\u001b[0m\u001b[0;34m\u001b[0m\u001b[0;34m\u001b[0m\u001b[0m\n\u001b[0;32m--> 454\u001b[0;31m     \u001b[0mparser\u001b[0m \u001b[0;34m=\u001b[0m \u001b[0mTextFileReader\u001b[0m\u001b[0;34m(\u001b[0m\u001b[0mfp_or_buf\u001b[0m\u001b[0;34m,\u001b[0m \u001b[0;34m**\u001b[0m\u001b[0mkwds\u001b[0m\u001b[0;34m)\u001b[0m\u001b[0;34m\u001b[0m\u001b[0;34m\u001b[0m\u001b[0m\n\u001b[0m\u001b[1;32m    455\u001b[0m \u001b[0;34m\u001b[0m\u001b[0m\n\u001b[1;32m    456\u001b[0m     \u001b[0;32mif\u001b[0m \u001b[0mchunksize\u001b[0m \u001b[0;32mor\u001b[0m \u001b[0miterator\u001b[0m\u001b[0;34m:\u001b[0m\u001b[0;34m\u001b[0m\u001b[0;34m\u001b[0m\u001b[0m\n",
      "\u001b[0;32m~/Code-Fellows/401_Python/Scalper-Project/.venv/lib/python3.9/site-packages/pandas/io/parsers.py\u001b[0m in \u001b[0;36m__init__\u001b[0;34m(self, f, engine, **kwds)\u001b[0m\n\u001b[1;32m    946\u001b[0m             \u001b[0mself\u001b[0m\u001b[0;34m.\u001b[0m\u001b[0moptions\u001b[0m\u001b[0;34m[\u001b[0m\u001b[0;34m\"has_index_names\"\u001b[0m\u001b[0;34m]\u001b[0m \u001b[0;34m=\u001b[0m \u001b[0mkwds\u001b[0m\u001b[0;34m[\u001b[0m\u001b[0;34m\"has_index_names\"\u001b[0m\u001b[0;34m]\u001b[0m\u001b[0;34m\u001b[0m\u001b[0;34m\u001b[0m\u001b[0m\n\u001b[1;32m    947\u001b[0m \u001b[0;34m\u001b[0m\u001b[0m\n\u001b[0;32m--> 948\u001b[0;31m         \u001b[0mself\u001b[0m\u001b[0;34m.\u001b[0m\u001b[0m_make_engine\u001b[0m\u001b[0;34m(\u001b[0m\u001b[0mself\u001b[0m\u001b[0;34m.\u001b[0m\u001b[0mengine\u001b[0m\u001b[0;34m)\u001b[0m\u001b[0;34m\u001b[0m\u001b[0;34m\u001b[0m\u001b[0m\n\u001b[0m\u001b[1;32m    949\u001b[0m \u001b[0;34m\u001b[0m\u001b[0m\n\u001b[1;32m    950\u001b[0m     \u001b[0;32mdef\u001b[0m \u001b[0mclose\u001b[0m\u001b[0;34m(\u001b[0m\u001b[0mself\u001b[0m\u001b[0;34m)\u001b[0m\u001b[0;34m:\u001b[0m\u001b[0;34m\u001b[0m\u001b[0;34m\u001b[0m\u001b[0m\n",
      "\u001b[0;32m~/Code-Fellows/401_Python/Scalper-Project/.venv/lib/python3.9/site-packages/pandas/io/parsers.py\u001b[0m in \u001b[0;36m_make_engine\u001b[0;34m(self, engine)\u001b[0m\n\u001b[1;32m   1178\u001b[0m     \u001b[0;32mdef\u001b[0m \u001b[0m_make_engine\u001b[0m\u001b[0;34m(\u001b[0m\u001b[0mself\u001b[0m\u001b[0;34m,\u001b[0m \u001b[0mengine\u001b[0m\u001b[0;34m=\u001b[0m\u001b[0;34m\"c\"\u001b[0m\u001b[0;34m)\u001b[0m\u001b[0;34m:\u001b[0m\u001b[0;34m\u001b[0m\u001b[0;34m\u001b[0m\u001b[0m\n\u001b[1;32m   1179\u001b[0m         \u001b[0;32mif\u001b[0m \u001b[0mengine\u001b[0m \u001b[0;34m==\u001b[0m \u001b[0;34m\"c\"\u001b[0m\u001b[0;34m:\u001b[0m\u001b[0;34m\u001b[0m\u001b[0;34m\u001b[0m\u001b[0m\n\u001b[0;32m-> 1180\u001b[0;31m             \u001b[0mself\u001b[0m\u001b[0;34m.\u001b[0m\u001b[0m_engine\u001b[0m \u001b[0;34m=\u001b[0m \u001b[0mCParserWrapper\u001b[0m\u001b[0;34m(\u001b[0m\u001b[0mself\u001b[0m\u001b[0;34m.\u001b[0m\u001b[0mf\u001b[0m\u001b[0;34m,\u001b[0m \u001b[0;34m**\u001b[0m\u001b[0mself\u001b[0m\u001b[0;34m.\u001b[0m\u001b[0moptions\u001b[0m\u001b[0;34m)\u001b[0m\u001b[0;34m\u001b[0m\u001b[0;34m\u001b[0m\u001b[0m\n\u001b[0m\u001b[1;32m   1181\u001b[0m         \u001b[0;32melse\u001b[0m\u001b[0;34m:\u001b[0m\u001b[0;34m\u001b[0m\u001b[0;34m\u001b[0m\u001b[0m\n\u001b[1;32m   1182\u001b[0m             \u001b[0;32mif\u001b[0m \u001b[0mengine\u001b[0m \u001b[0;34m==\u001b[0m \u001b[0;34m\"python\"\u001b[0m\u001b[0;34m:\u001b[0m\u001b[0;34m\u001b[0m\u001b[0;34m\u001b[0m\u001b[0m\n",
      "\u001b[0;32m~/Code-Fellows/401_Python/Scalper-Project/.venv/lib/python3.9/site-packages/pandas/io/parsers.py\u001b[0m in \u001b[0;36m__init__\u001b[0;34m(self, src, **kwds)\u001b[0m\n\u001b[1;32m   2008\u001b[0m         \u001b[0mkwds\u001b[0m\u001b[0;34m[\u001b[0m\u001b[0;34m\"usecols\"\u001b[0m\u001b[0;34m]\u001b[0m \u001b[0;34m=\u001b[0m \u001b[0mself\u001b[0m\u001b[0;34m.\u001b[0m\u001b[0musecols\u001b[0m\u001b[0;34m\u001b[0m\u001b[0;34m\u001b[0m\u001b[0m\n\u001b[1;32m   2009\u001b[0m \u001b[0;34m\u001b[0m\u001b[0m\n\u001b[0;32m-> 2010\u001b[0;31m         \u001b[0mself\u001b[0m\u001b[0;34m.\u001b[0m\u001b[0m_reader\u001b[0m \u001b[0;34m=\u001b[0m \u001b[0mparsers\u001b[0m\u001b[0;34m.\u001b[0m\u001b[0mTextReader\u001b[0m\u001b[0;34m(\u001b[0m\u001b[0msrc\u001b[0m\u001b[0;34m,\u001b[0m \u001b[0;34m**\u001b[0m\u001b[0mkwds\u001b[0m\u001b[0;34m)\u001b[0m\u001b[0;34m\u001b[0m\u001b[0;34m\u001b[0m\u001b[0m\n\u001b[0m\u001b[1;32m   2011\u001b[0m         \u001b[0mself\u001b[0m\u001b[0;34m.\u001b[0m\u001b[0munnamed_cols\u001b[0m \u001b[0;34m=\u001b[0m \u001b[0mself\u001b[0m\u001b[0;34m.\u001b[0m\u001b[0m_reader\u001b[0m\u001b[0;34m.\u001b[0m\u001b[0munnamed_cols\u001b[0m\u001b[0;34m\u001b[0m\u001b[0;34m\u001b[0m\u001b[0m\n\u001b[1;32m   2012\u001b[0m \u001b[0;34m\u001b[0m\u001b[0m\n",
      "\u001b[0;32mpandas/_libs/parsers.pyx\u001b[0m in \u001b[0;36mpandas._libs.parsers.TextReader.__cinit__\u001b[0;34m()\u001b[0m\n",
      "\u001b[0;32mpandas/_libs/parsers.pyx\u001b[0m in \u001b[0;36mpandas._libs.parsers.TextReader._setup_parser_source\u001b[0;34m()\u001b[0m\n",
      "\u001b[0;31mFileNotFoundError\u001b[0m: [Errno 2] No such file or directory: './data/fake_ps5_ebay.csv'"
     ]
    }
   ],
   "source": [
    "df_ebay = pd.read_csv(\"./data/fake_ps5_ebay.csv\")\n",
    "df_msrp = pd.read_csv(\"./data/fake_ps5_msrp.csv\")\n",
    "df_real_ebay = pd.read_csv(\"./data/ebay_data.csv\")"
   ]
  },
  {
   "cell_type": "code",
   "execution_count": null,
   "metadata": {},
   "outputs": [],
   "source": [
    "df_ebay.head(5)\n",
    "df_msrp.head(5)"
   ]
  },
  {
   "source": [
    "##### Combine datafames"
   ],
   "cell_type": "markdown",
   "metadata": {}
  },
  {
   "cell_type": "code",
   "execution_count": null,
   "metadata": {},
   "outputs": [],
   "source": [
    "# consider combining each of the dataframes into one large one called df_ps5\n",
    "# https://pandas.pydata.org/pandas-docs/stable/user_guide/merging.html\n",
    "\n",
    "# dfs_to_combine = [df_ebay,df_msrp]\n",
    "# df_combo = pd.concat(dfs_to_combine)\n",
    "# df_combo.head(5)\n",
    "\n",
    "df_combo = df_msrp\n",
    "df_combo[\"ebay\"] = df_ebay[\"price\"]\n",
    "df_combo[\"price_delta\"] = df_combo.ebay - df_combo.price\n",
    "df_combo[\"percent_markup\"] = (df_combo.ebay / df_combo.price * 100 - 100).round(2)\n",
    "df_combo.head(5)\n"
   ]
  },
  {
   "cell_type": "code",
   "execution_count": null,
   "metadata": {},
   "outputs": [],
   "source": []
  },
  {
   "source": [
    "### Time History Plot of PS5 Prices"
   ],
   "cell_type": "markdown",
   "metadata": {}
  },
  {
   "cell_type": "code",
   "execution_count": null,
   "metadata": {},
   "outputs": [],
   "source": [
    "# dates = df_ebay[\"date\"].values\n",
    "# ebay_price = df_ebay[\"price\"].values\n",
    "# plt.scatter(dates,ebay_price)\n",
    "\n",
    "plt.scatter(df_ebay[\"date\"].values,df_ebay[\"price\"].values)\n",
    "plt.show()\n"
   ]
  },
  {
   "cell_type": "code",
   "execution_count": null,
   "metadata": {},
   "outputs": [],
   "source": [
    "fig, ax = plt.subplots(figsize=(10,4))\n",
    "sns.lineplot(x = df_ebay[\"date\"].values,\n",
    "    y = df_ebay[\"price\"].values,\n",
    "    color = 'r',\n",
    "    ax = ax)\n",
    "sns.lineplot(x = df_msrp[\"date\"].values,\n",
    "    y = df_msrp[\"price\"].values,\n",
    "    color = 'b',\n",
    "    ax = ax)\n",
    "ax2 = ax.twinx()\n",
    "ax.legend(['eBay','MSRP'], facecolor='w')\n",
    "ax.set(xlabel=\"Date\",ylabel=\"Price\")\n",
    "plt.title(\"PlayStation 5 Price History\")\n",
    "plt.show()\n"
   ]
  },
  {
   "source": [
    "###  What is the percent markup being charged by scalpers on the PS5?"
   ],
   "cell_type": "markdown",
   "metadata": {}
  },
  {
   "cell_type": "code",
   "execution_count": null,
   "metadata": {},
   "outputs": [],
   "source": [
    "fig, ax = plt.subplots(figsize=(10,4))\n",
    "sns.scatterplot(x = df_combo[\"date\"].values,\n",
    "    y = df_combo[\"percent_markup\"].values,\n",
    "    color = 'r',\n",
    "    ax = ax)\n",
    "\n",
    "ax.legend(['% markup'], facecolor='w')\n",
    "ax.set(xlabel=\"Date\",ylabel=\"% Markup\")\n",
    "plt.title(\"PlayStation 5 Third Party Markup History\")\n",
    "plt.show()"
   ]
  },
  {
   "cell_type": "code",
   "execution_count": null,
   "metadata": {},
   "outputs": [],
   "source": [
    "#### What if iPad Air 64GB (4th gen) at $599 is scalped at these rates?"
   ]
  },
  {
   "cell_type": "code",
   "execution_count": null,
   "metadata": {},
   "outputs": [],
   "source": [
    "df_combo[\"ipad\"] = ( df_combo[\"percent_markup\"] / 100 + 1 ) * 599\n",
    "\n",
    "fig, ax = plt.subplots(figsize=(10,4))\n",
    "sns.lineplot(x = df_combo[\"date\"].values,\n",
    "    y = df_combo[\"ipad\"].values,\n",
    "    color = 'r',\n",
    "    ax = ax)\n",
    "ax.legend(['iPad'], facecolor='w')\n",
    "ax.set(xlabel=\"Date\",ylabel=\"Price\")\n",
    "plt.title(\"iPad Air (64GB 4th gen) Scalper Comparison\")\n",
    "plt.show()"
   ]
  },
  {
   "cell_type": "code",
   "execution_count": null,
   "metadata": {},
   "outputs": [],
   "source": [
    "#### What if MacBook Pro 13\" ($1299) was scalped at these rates?"
   ]
  },
  {
   "cell_type": "code",
   "execution_count": null,
   "metadata": {},
   "outputs": [],
   "source": [
    "df_combo[\"macbook\"] = ( df_combo[\"percent_markup\"] / 100 + 1 ) * 1299\n",
    "\n",
    "fig, ax = plt.subplots(figsize=(10,4))\n",
    "sns.lineplot(x = df_combo[\"date\"].values,\n",
    "    y = df_combo[\"macbook\"].values,\n",
    "    color = 'r',\n",
    "    ax = ax)\n",
    "ax.legend(['MacBook Pro 13\"'], facecolor='w')\n",
    "ax.set(xlabel=\"Date\",ylabel=\"Price\")\n",
    "plt.title('MacBook Pro 13\" Scalper Comparison')\n",
    "plt.show()"
   ]
  },
  {
   "source": [
    "### What if this same markup was applied to chapstick (MSRP $1.99) or Dove Deep Moisture Nourishing Body Wash(MSRP $5.89)?\n",
    "\n",
    "(https://www.target.com/p/dove-deep-moisture-nourishing-body-wash-for-dry-skin-22-fl-oz/-/A-11695274)"
   ],
   "cell_type": "markdown",
   "metadata": {}
  },
  {
   "cell_type": "code",
   "execution_count": null,
   "metadata": {},
   "outputs": [],
   "source": [
    "df_combo[\"chapstick\"] = ( df_combo[\"percent_markup\"] / 100 + 1 )* 1.99\n",
    "df_combo[\"bodywash\"] = ( df_combo[\"percent_markup\"] / 100 + 1 ) * 5.89\n",
    "\n",
    "fig, ax = plt.subplots(figsize=(10,4))\n",
    "sns.lineplot(x = df_combo[\"date\"].values,\n",
    "    y = df_combo[\"chapstick\"].values,\n",
    "    color = 'r',\n",
    "    ax = ax)\n",
    "sns.lineplot(x = df_combo[\"date\"].values,\n",
    "    y = df_combo[\"bodywash\"].values,\n",
    "    color = 'b',\n",
    "    ax = ax)\n",
    "ax.legend(['ChapStick','Dove Body Wash'], facecolor='w')\n",
    "ax.set(xlabel=\"Date\",ylabel=\"Price\")\n",
    "plt.title(\"Common Item Scalper Comparison\")\n",
    "plt.show()"
   ]
  },
  {
   "cell_type": "code",
   "execution_count": null,
   "metadata": {},
   "outputs": [],
   "source": [
    "df_combo.index.values\n",
    "df_combo[\"percent_markup\"].values"
   ]
  },
  {
   "source": [
    "### Fitting the markup data with a non-linear regression"
   ],
   "cell_type": "markdown",
   "metadata": {}
  },
  {
   "cell_type": "code",
   "execution_count": null,
   "metadata": {},
   "outputs": [],
   "source": [
    "df_combo[\"days_since_release\"] = df_combo.index.values\n",
    "df_combo.head(5)\n",
    "\n"
   ]
  },
  {
   "cell_type": "code",
   "execution_count": null,
   "metadata": {},
   "outputs": [],
   "source": [
    "where_do_we_go_now_plot= sns.lmplot(x=\"days_since_release\", y=\"percent_markup\", data=df_combo, order=9, ci=None, scatter_kws={\"s\": 80})"
   ]
  },
  {
   "cell_type": "code",
   "execution_count": null,
   "metadata": {},
   "outputs": [],
   "source": [
    "orchestra = sns.violinplot(x=df_ebay[\"price\"], inner=\"box\", orient='')"
   ]
  },
  {
   "cell_type": "code",
   "execution_count": null,
   "metadata": {},
   "outputs": [],
   "source": [
    "# Above is a representation of the entire data set as a violin plot. This shows the majority of sales happen between $400-$500, then $700-$900, with outliers from $200-$1600+."
   ]
  },
  {
   "cell_type": "code",
   "execution_count": null,
   "metadata": {},
   "outputs": [],
   "source": [
    "mean_ = df_ebay[\"price\"].mean()\n",
    "median_ = df_ebay[\"price\"].median()\n",
    "mode_ = df_ebay[\"price\"].mode()\n",
    "\n",
    "mean_"
   ]
  },
  {
   "source": [
    "# Here we see that the mean of the scalped prices is $708.\n"
   ],
   "cell_type": "markdown",
   "metadata": {}
  },
  {
   "cell_type": "code",
   "execution_count": null,
   "metadata": {},
   "outputs": [],
   "source": [
    "orchestra = sns.violinplot(x=df_real_ebay['Price'], inner='box')"
   ]
  },
  {
   "source": [
    "# Monday Violin\n"
   ],
   "cell_type": "markdown",
   "metadata": {}
  },
  {
   "cell_type": "code",
   "execution_count": null,
   "metadata": {},
   "outputs": [],
   "source": [
    "mean_ = df_real_ebay.mean()\n",
    "mean_"
   ]
  },
  {
   "cell_type": "code",
   "execution_count": null,
   "metadata": {},
   "outputs": [],
   "source": [
    "df_ebay_tues = pd.read_csv(\"./data/ebay_data_tuesday.csv\")\n",
    "orchestra = sns.violinplot(x=df_ebay_tues['Price'], inner='box')"
   ]
  },
  {
   "source": [
    "# Tuesday Violin"
   ],
   "cell_type": "markdown",
   "metadata": {}
  },
  {
   "cell_type": "code",
   "execution_count": null,
   "metadata": {},
   "outputs": [],
   "source": [
    "mean_ = df_ebay_tues.mean()\n",
    "mean_"
   ]
  },
  {
   "cell_type": "code",
   "execution_count": null,
   "metadata": {},
   "outputs": [],
   "source": []
  },
  {
   "source": [
    "### Line Plots of the PS5 MSRP and Secondary Market with Sony Units Sold Count as Bar Chart\n",
    "\n",
    "Search the linked site for \"Or, we can combine a bar chart and a line chart with the same x-axis but different y-axis:\" to get more information on how to make it.  The site is already listed in the README.\n",
    "\n",
    "https://towardsdatascience.com/a-step-by-step-guide-for-creating-advanced-python-data-visualizations-with-seaborn-matplotlib-1579d6a1a7d0"
   ],
   "cell_type": "markdown",
   "metadata": {}
  },
  {
   "source": [
    "### Violin Chart for each day PS5 has been released... grouping by day, height by max to min price, width of units sold on ebay"
   ],
   "cell_type": "markdown",
   "metadata": {}
  },
  {
   "cell_type": "code",
   "execution_count": null,
   "metadata": {},
   "outputs": [],
   "source": [
    "fig, ax = plt.subplots(figsize=(10,4))\n",
    "sns.scatterplot(x = df_ebay[\"date\"].values,\n",
    "    y = df_ebay[\"price\"].values,\n",
    "    color = 'r',\n",
    "    ax = ax)\n",
    "sns.scatterplot(x = df_msrp[\"date\"].values,\n",
    "    y = df_msrp[\"price\"].values,\n",
    "    color = 'b',\n",
    "    ax = ax)\n",
    "\n",
    "# ax2 = ax.twinx()\n",
    "# sns.scatterplot(x = df_combo[\"date\"].values,\n",
    "#     y = df_combo[\"percent_markup\"].values,\n",
    "#     color = \"orange\",\n",
    "#     ax = ax2)\n",
    "\n",
    "ax = df_combo.plot(secondary_y=[\"percent_markup\"])\n",
    "\n",
    "ax.legend(['eBay','MSRP','% markup'], facecolor='w')\n",
    "# ax2.legend(['% markup'], facecolor='w')\n",
    "# ax2.set(ylim(0,500))\n",
    "ax.set(xlabel=\"Date\",ylabel=\"Price\")\n",
    "# ax.right_ax.set_ylabel('% Markup')\n",
    "plt.title(\"PlayStation 5 Price History\")\n",
    "plt.show()"
   ]
  },
  {
   "cell_type": "code",
   "execution_count": null,
   "metadata": {},
   "outputs": [],
   "source": []
  }
 ]
}