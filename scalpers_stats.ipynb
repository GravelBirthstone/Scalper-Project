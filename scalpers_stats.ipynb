{
 "metadata": {
  "language_info": {
   "codemirror_mode": {
    "name": "ipython",
    "version": 3
   },
   "file_extension": ".py",
   "mimetype": "text/x-python",
   "name": "python",
   "nbconvert_exporter": "python",
   "pygments_lexer": "ipython3",
   "version": "3.9.0-final"
  },
  "orig_nbformat": 2,
  "kernelspec": {
   "name": "python3",
   "display_name": "Python 3.9.0 64-bit ('.venv')",
   "metadata": {
    "interpreter": {
     "hash": "51e45f27a2b3ef8af43ad1d11a6df4dbbe13075f198aa8a7e5485f199f619a2a"
    }
   }
  }
 },
 "nbformat": 4,
 "nbformat_minor": 2,
 "cells": [
  {
   "cell_type": "code",
   "execution_count": 1,
   "metadata": {},
   "outputs": [],
   "source": [
    "import pandas as pd\n",
    "import numpy as np\n",
    "import matplotlib.pyplot as plt\n",
    "from sklearn.linear_model import LinearRegression\n",
    "from sklearn.model_selection import train_test_split"
   ]
  },
  {
   "cell_type": "code",
   "execution_count": 7,
   "metadata": {},
   "outputs": [
    {
     "output_type": "stream",
     "name": "stdout",
     "text": [
      "Stocks: (2675, 7)\nSales: (8, 6)\nCovid-19: (172480, 8)\n              Date    Price     Open     High      Low   Vol. Change %\n0     Dec 07, 2020  9,675.0  9,820.0  9,823.0  9,610.0  3.31M   -0.84%\n1     Dec 04, 2020  9,757.0  9,800.0  9,824.0  9,703.0  3.46M   -0.08%\n2     Dec 03, 2020  9,765.0  9,566.0  9,765.0  9,562.0  4.86M    1.53%\n3     Dec 02, 2020  9,618.0  9,786.0  9,799.0  9,587.0  8.03M   -1.86%\n4     Dec 01, 2020  9,800.0  9,804.0  9,925.0  9,756.0  5.66M    0.99%\n...            ...      ...      ...      ...      ...    ...      ...\n2670  Jan 08, 2010  2,809.0  2,785.0  2,809.0  2,769.0  6.98M    2.41%\n2671  Jan 07, 2010  2,743.0  2,750.0  2,764.0  2,723.0  2.90M   -0.04%\n2672  Jan 06, 2010  2,744.0  2,719.0  2,757.0  2,699.0  4.27M    0.92%\n2673  Jan 05, 2010  2,719.0  2,781.0  2,782.0  2,704.0  4.89M   -0.44%\n2674  Jan 04, 2010  2,731.0  2,700.0  2,744.0  2,694.0  4.00M    2.28%\n\n[2675 rows x 7 columns]\n   Year   Q1   Q2   Q3   Q4  Anual\n0  2013  NaN  NaN  4.5  3.1    7.6\n1  2014  2.8  3.4  6.4  2.3   14.8\n2  2015  2.9  4.0  8.4  2.4   17.6\n3  2016  3.5  3.9  9.7  2.9   20.0\n4  2017  3.3  4.2  9.0  2.5   19.0\n5  2018  3.2  3.9  8.1  2.6   17.8\n6  2019  3.2  2.8  6.0  1.4   13.5\n7  2020  1.9  1.5  NaN  NaN    NaN\n           SNo ObservationDate     Province/State  Country/Region  \\\n0            1      01/22/2020              Anhui  Mainland China   \n1            2      01/22/2020            Beijing  Mainland China   \n2            3      01/22/2020          Chongqing  Mainland China   \n3            4      01/22/2020             Fujian  Mainland China   \n4            5      01/22/2020              Gansu  Mainland China   \n...        ...             ...                ...             ...   \n172475  172476      12/06/2020  Zaporizhia Oblast         Ukraine   \n172476  172477      12/06/2020            Zeeland     Netherlands   \n172477  172478      12/06/2020           Zhejiang  Mainland China   \n172478  172479      12/06/2020    Zhytomyr Oblast         Ukraine   \n172479  172480      12/06/2020       Zuid-Holland     Netherlands   \n\n                Last Update  Confirmed  Deaths  Recovered  \n0           1/22/2020 17:00        1.0     0.0        0.0  \n1           1/22/2020 17:00       14.0     0.0        0.0  \n2           1/22/2020 17:00        6.0     0.0        0.0  \n3           1/22/2020 17:00        1.0     0.0        0.0  \n4           1/22/2020 17:00        0.0     0.0        0.0  \n...                     ...        ...     ...        ...  \n172475  2020-12-07 05:26:14    36539.0   337.0     6556.0  \n172476  2020-12-07 05:26:14     6710.0   104.0        0.0  \n172477  2020-12-07 05:26:14     1295.0     1.0     1288.0  \n172478  2020-12-07 05:26:14    31967.0   531.0    22263.0  \n172479  2020-12-07 05:26:14   154813.0  2414.0        0.0  \n\n[172480 rows x 8 columns]\n"
     ]
    }
   ],
   "source": [
    "stock_data = pd.read_csv(\"./assets/data/Sony-stock-2010-2020.csv\")\n",
    "sales_data = pd.read_csv(\"./assets/data/sales-ps4.csv\")\n",
    "covid_19_data = pd.read_csv(\"./assets/data/covid_19_data.csv\")\n",
    "\n",
    "print(f\"Stocks: {stock_data.shape}\")\n",
    "print(f\"Sales: {sales_data.shape}\")\n",
    "print(f\"Covid-19: {covid_19_data.shape}\")\n",
    "\n",
    "print(stock_data)\n",
    "print(sales_data)\n",
    "print(covid_19_data)"
   ]
  },
  {
   "cell_type": "code",
   "execution_count": 3,
   "metadata": {},
   "outputs": [],
   "source": [
    "#Selecting Corresponding Features\n",
    "x = stock_data[\"High\"].values\n",
    "y = covid_19_data[\"Confirmed\"].values\n",
    "z = sales_data[\"Anual\"].values"
   ]
  },
  {
   "cell_type": "code",
   "execution_count": 4,
   "metadata": {},
   "outputs": [
    {
     "output_type": "execute_result",
     "data": {
      "text/plain": [
       "array([[1.00000e+00],\n",
       "       [1.40000e+01],\n",
       "       [6.00000e+00],\n",
       "       ...,\n",
       "       [1.29500e+03],\n",
       "       [3.19670e+04],\n",
       "       [1.54813e+05]])"
      ]
     },
     "metadata": {},
     "execution_count": 4
    }
   ],
   "source": [
    "y=y.reshape(-1,1)\n",
    "y"
   ]
  },
  {
   "cell_type": "code",
   "execution_count": null,
   "metadata": {},
   "outputs": [],
   "source": []
  }
 ]
}