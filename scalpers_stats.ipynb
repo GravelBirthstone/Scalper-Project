{
 "metadata": {
  "language_info": {
   "codemirror_mode": {
    "name": "ipython",
    "version": 3
   },
   "file_extension": ".py",
   "mimetype": "text/x-python",
   "name": "python",
   "nbconvert_exporter": "python",
   "pygments_lexer": "ipython3",
   "version": "3.9.0-final"
  },
  "orig_nbformat": 2,
  "kernelspec": {
   "name": "python3",
   "display_name": "Python 3.9.0 64-bit ('.venv')",
   "metadata": {
    "interpreter": {
     "hash": "e69f558aa801000e73aac2691c34088c10c2a3208d0b5e8bc06443ca6cb51a3f"
    }
   }
  }
 },
 "nbformat": 4,
 "nbformat_minor": 2,
 "cells": [
  {
   "source": [
    "# Scalper's Statistics:  PlayStation 5\n",
    "### By Lee Thomas, Taylor Johnson, Alex Peña, and Paul Leonard\n",
    "#### December 2020"
   ],
   "cell_type": "markdown",
   "metadata": {}
  },
  {
   "source": [
    "##### Import related libraries"
   ],
   "cell_type": "markdown",
   "metadata": {}
  },
  {
   "cell_type": "code",
   "execution_count": null,
   "metadata": {},
   "outputs": [],
   "source": [
    "import pandas as pd\n",
    "import numpy as np\n",
    "import matplotlib as mpl\n",
    "import matplotlib.pyplot as plt\n",
    "import seaborn as sns"
   ]
  },
  {
   "source": [
    "##### Import data sets"
   ],
   "cell_type": "markdown",
   "metadata": {}
  },
  {
   "cell_type": "code",
   "execution_count": null,
   "metadata": {},
   "outputs": [],
   "source": [
    "df_ebay = pd.read_csv(\"./data/fake_ps5_ebay.csv\")\n",
    "df_msrp = pd.read_csv(\"./data/fake_ps5_msrp.csv\")\n",
    "df_real_ebay = pd.read_csv(\"./data/ebay_data.csv\")"
   ]
  },
  {
   "cell_type": "code",
   "execution_count": null,
   "metadata": {},
   "outputs": [],
   "source": [
    "df_ebay.head(5)\n",
    "df_msrp.head(5)"
   ]
  },
  {
   "source": [
    "##### Combine datafames"
   ],
   "cell_type": "markdown",
   "metadata": {}
  },
  {
   "cell_type": "code",
   "execution_count": null,
   "metadata": {},
   "outputs": [],
   "source": [
    "# consider combining each of the dataframes into one large one called df_ps5\n",
    "# https://pandas.pydata.org/pandas-docs/stable/user_guide/merging.html\n",
    "\n",
    "# dfs_to_combine = [df_ebay,df_msrp]\n",
    "# df_combo = pd.concat(dfs_to_combine)\n",
    "# df_combo.head(5)\n",
    "\n",
    "df_combo = df_msrp\n",
    "df_combo[\"ebay\"] = df_ebay[\"price\"]\n",
    "df_combo[\"price_delta\"] = df_combo.ebay - df_combo.price\n",
    "df_combo[\"percent_markup\"] = (df_combo.ebay / df_combo.price * 100 - 100).round(2)\n",
    "df_combo.head(5)\n"
   ]
  },
  {
   "cell_type": "code",
   "execution_count": null,
   "metadata": {},
   "outputs": [],
   "source": []
  },
  {
   "source": [
    "### Time History Plot of PS5 Prices"
   ],
   "cell_type": "markdown",
   "metadata": {}
  },
  {
   "cell_type": "code",
   "execution_count": null,
   "metadata": {},
   "outputs": [],
   "source": [
    "# dates = df_ebay[\"date\"].values\n",
    "# ebay_price = df_ebay[\"price\"].values\n",
    "# plt.scatter(dates,ebay_price)\n",
    "\n",
    "plt.scatter(df_ebay[\"date\"].values,df_ebay[\"price\"].values)\n",
    "plt.show()\n"
   ]
  },
  {
   "cell_type": "code",
   "execution_count": null,
   "metadata": {},
   "outputs": [],
   "source": [
    "fig, ax = plt.subplots(figsize=(10,4))\n",
    "sns.lineplot(x = df_ebay[\"date\"].values,\n",
    "    y = df_ebay[\"price\"].values,\n",
    "    color = 'r',\n",
    "    ax = ax)\n",
    "sns.lineplot(x = df_msrp[\"date\"].values,\n",
    "    y = df_msrp[\"price\"].values,\n",
    "    color = 'b',\n",
    "    ax = ax)\n",
    "ax2 = ax.twinx()\n",
    "sns.lineplot(x = df_combo[\"date\"].values,\n",
    "    y = df_combo[\"percent_markup\"].values,\n",
    "    color = \"orange\",\n",
    "    ax = ax2)\n",
    "ax.legend(['eBay','MSRP','% markup'], facecolor='w')\n",
    "# ax2.legend(['% markup'], facecolor='w')\n",
    "# ax2.set(ylim(0,500))\n",
    "ax.set(xlabel=\"Date\",ylabel=\"Price\")\n",
    "# ax.right_ax.set_ylabel('% Markup')\n",
    "plt.title(\"PlayStation 5 Price History\")\n",
    "plt.show()\n"
   ]
  },
  {
   "cell_type": "code",
   "execution_count": null,
   "metadata": {},
   "outputs": [],
   "source": [
    "orchestra = sns.violinplot(x=df_ebay[\"price\"], inner=\"box\", orient='')"
   ]
  },
  {
   "cell_type": "code",
   "execution_count": null,
   "metadata": {},
   "outputs": [],
   "source": [
    "# Above is a representation of the entire data set as a violin plot. This shows the majority of sales happen between $400-$500, then $700-$900, with outliers from $200-$1600+."
   ]
  },
  {
   "cell_type": "code",
   "execution_count": null,
   "metadata": {},
   "outputs": [],
   "source": [
    "mean_ = df_ebay[\"price\"].mean()\n",
    "median_ = df_ebay[\"price\"].median()\n",
    "mode_ = df_ebay[\"price\"].mode()\n",
    "\n",
    "mean_"
   ]
  },
  {
   "source": [
    "# Here we see that the mean of the scalped prices is $708.\n"
   ],
   "cell_type": "markdown",
   "metadata": {}
  },
  {
   "cell_type": "code",
   "execution_count": null,
   "metadata": {},
   "outputs": [],
   "source": [
    "orchestra = sns.violinplot(x=df_real_ebay['Price'], inner='box')"
   ]
  },
  {
   "source": [
    "# Monday Violin\n"
   ],
   "cell_type": "markdown",
   "metadata": {}
  },
  {
   "cell_type": "code",
   "execution_count": null,
   "metadata": {},
   "outputs": [],
   "source": [
    "mean_ = df_real_ebay.mean()\n",
    "mean_"
   ]
  },
  {
   "cell_type": "code",
   "execution_count": null,
   "metadata": {},
   "outputs": [],
   "source": [
    "df_ebay_tues = pd.read_csv(\"./data/ebay_data_tuesday.csv\")\n",
    "orchestra = sns.violinplot(x=df_ebay_tues['Price'], inner='box')"
   ]
  },
  {
   "source": [
    "# Tuesday Violin"
   ],
   "cell_type": "markdown",
   "metadata": {}
  },
  {
   "cell_type": "code",
   "execution_count": null,
   "metadata": {},
   "outputs": [],
   "source": [
    "mean_ = df_ebay_tues.mean()\n",
    "mean_"
   ]
  },
  {
   "cell_type": "code",
   "execution_count": null,
   "metadata": {},
   "outputs": [],
   "source": []
  },
  {
   "source": [
    "### Line Plots of the PS5 MSRP and Secondary Market with Sony Units Sold Count as Bar Chart\n",
    "\n",
    "Search the linked site for \"Or, we can combine a bar chart and a line chart with the same x-axis but different y-axis:\" to get more information on how to make it.  The site is already listed in the README.\n",
    "\n",
    "https://towardsdatascience.com/a-step-by-step-guide-for-creating-advanced-python-data-visualizations-with-seaborn-matplotlib-1579d6a1a7d0"
   ],
   "cell_type": "markdown",
   "metadata": {}
  },
  {
   "source": [
    "### Violin Chart for each day PS5 has been released... grouping by day, height by max to min price, width of units sold on ebay"
   ],
   "cell_type": "markdown",
   "metadata": {}
  }
 ]
}