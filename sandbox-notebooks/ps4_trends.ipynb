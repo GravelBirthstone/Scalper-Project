{
 "metadata": {
  "language_info": {
   "codemirror_mode": {
    "name": "ipython",
    "version": 3
   },
   "file_extension": ".py",
   "mimetype": "text/x-python",
   "name": "python",
   "nbconvert_exporter": "python",
   "pygments_lexer": "ipython3",
   "version": "3.9.0-final"
  },
  "orig_nbformat": 2,
  "kernelspec": {
   "name": "python3",
   "display_name": "Python 3",
   "language": "python"
  }
 },
 "nbformat": 4,
 "nbformat_minor": 2,
 "cells": [
  {
   "source": [
    "# Scalper's Statistics:  PlayStation 5\n",
    "### By Lee Thomas, Taylor Johnson, Alex Peña, and Paul Leonard\n",
    "#### December 2020"
   ],
   "cell_type": "markdown",
   "metadata": {}
  },
  {
   "source": [
    "##### Import related libraries"
   ],
   "cell_type": "markdown",
   "metadata": {}
  },
  {
   "cell_type": "code",
   "execution_count": 2,
   "metadata": {},
   "outputs": [],
   "source": [
    "import pandas as pd\n",
    "import numpy as np\n",
    "import matplotlib as mpl\n",
    "import matplotlib.pyplot as plt\n",
    "import seaborn as sns\n",
    "from sklearn.linear_model import LinearRegression\n"
   ]
  },
  {
   "source": [
    "##### Import data sets"
   ],
   "cell_type": "markdown",
   "metadata": {}
  },
  {
   "cell_type": "code",
   "execution_count": 3,
   "metadata": {},
   "outputs": [],
   "source": [
    "df_ebay = pd.read_csv(\"../assets/data/PS4_3rd_party_sales.csv\")\n",
    "df_msrp = pd.read_csv(\"../assets/data/PS4_MSRP_sales.csv\")\n",
    "df_real_ebay = pd.read_csv(\"../assets/data/PS4_3rd_party_sales.csv\")"
   ]
  },
  {
   "cell_type": "code",
   "execution_count": 4,
   "metadata": {},
   "outputs": [
    {
     "output_type": "execute_result",
     "data": {
      "text/plain": [
       "           Date  Price\n",
       "0  Oct 21, 2013   $900\n",
       "1  Nov 15, 2013  $1000\n",
       "2  Nov 24, 2013  $1100\n",
       "3   Dec 1, 2013   $900\n",
       "4   Dec 7, 2013   $800"
      ],
      "text/html": "<div>\n<style scoped>\n    .dataframe tbody tr th:only-of-type {\n        vertical-align: middle;\n    }\n\n    .dataframe tbody tr th {\n        vertical-align: top;\n    }\n\n    .dataframe thead th {\n        text-align: right;\n    }\n</style>\n<table border=\"1\" class=\"dataframe\">\n  <thead>\n    <tr style=\"text-align: right;\">\n      <th></th>\n      <th>Date</th>\n      <th>Price</th>\n    </tr>\n  </thead>\n  <tbody>\n    <tr>\n      <th>0</th>\n      <td>Oct 21, 2013</td>\n      <td>$900</td>\n    </tr>\n    <tr>\n      <th>1</th>\n      <td>Nov 15, 2013</td>\n      <td>$1000</td>\n    </tr>\n    <tr>\n      <th>2</th>\n      <td>Nov 24, 2013</td>\n      <td>$1100</td>\n    </tr>\n    <tr>\n      <th>3</th>\n      <td>Dec 1, 2013</td>\n      <td>$900</td>\n    </tr>\n    <tr>\n      <th>4</th>\n      <td>Dec 7, 2013</td>\n      <td>$800</td>\n    </tr>\n  </tbody>\n</table>\n</div>"
     },
     "metadata": {},
     "execution_count": 4
    }
   ],
   "source": [
    "df_msrp.head(5)\n",
    "df_ebay.head(5)"
   ]
  },
  {
   "source": [
    "##### Combine datafames"
   ],
   "cell_type": "markdown",
   "metadata": {}
  },
  {
   "cell_type": "code",
   "execution_count": 1,
   "metadata": {},
   "outputs": [
    {
     "output_type": "error",
     "ename": "NameError",
     "evalue": "name 'df_msrp' is not defined",
     "traceback": [
      "\u001b[0;31m---------------------------------------------------------------------------\u001b[0m",
      "\u001b[0;31mNameError\u001b[0m                                 Traceback (most recent call last)",
      "\u001b[0;32m<ipython-input-1-a788fef88e9b>\u001b[0m in \u001b[0;36m<module>\u001b[0;34m\u001b[0m\n\u001b[1;32m      6\u001b[0m \u001b[0;31m# df_combo.head(5)\u001b[0m\u001b[0;34m\u001b[0m\u001b[0;34m\u001b[0m\u001b[0;34m\u001b[0m\u001b[0m\n\u001b[1;32m      7\u001b[0m \u001b[0;34m\u001b[0m\u001b[0m\n\u001b[0;32m----> 8\u001b[0;31m \u001b[0mdf_combo\u001b[0m \u001b[0;34m=\u001b[0m \u001b[0mdf_msrp\u001b[0m\u001b[0;34m\u001b[0m\u001b[0;34m\u001b[0m\u001b[0m\n\u001b[0m\u001b[1;32m      9\u001b[0m \u001b[0mdf_combo\u001b[0m\u001b[0;34m[\u001b[0m\u001b[0;34m\"ebay_price\"\u001b[0m\u001b[0;34m]\u001b[0m \u001b[0;34m=\u001b[0m \u001b[0mdf_ebay\u001b[0m\u001b[0;34m[\u001b[0m\u001b[0;34m\"price\"\u001b[0m\u001b[0;34m]\u001b[0m\u001b[0;34m\u001b[0m\u001b[0;34m\u001b[0m\u001b[0m\n\u001b[1;32m     10\u001b[0m \u001b[0mdf_combo\u001b[0m\u001b[0;34m[\u001b[0m\u001b[0;34m\"price_delta\"\u001b[0m\u001b[0;34m]\u001b[0m \u001b[0;34m=\u001b[0m \u001b[0mdf_combo\u001b[0m\u001b[0;34m.\u001b[0m\u001b[0mebay_price\u001b[0m \u001b[0;34m-\u001b[0m \u001b[0mdf_msrp\u001b[0m\u001b[0;34m.\u001b[0m\u001b[0mPrice\u001b[0m\u001b[0;34m\u001b[0m\u001b[0;34m\u001b[0m\u001b[0m\n",
      "\u001b[0;31mNameError\u001b[0m: name 'df_msrp' is not defined"
     ]
    }
   ],
   "source": [
    "# consider combining each of the dataframes into one large one called df_ps5\n",
    "# https://pandas.pydata.org/pandas-docs/stable/user_guide/merging.html\n",
    "\n",
    "# dfs_to_combine = [df_ebay,df_msrp]\n",
    "# df_combo = pd.concat(dfs_to_combine)\n",
    "# df_combo.head(5)\n",
    "\n",
    "df_combo = df_msrp\n",
    "df_combo[\"ebay_price\"] = df_ebay[\"price\"]\n",
    "df_combo[\"price_delta\"] = df_combo.ebay_price - df_msrp.Price\n",
    "df_combo[\"percent_markup\"] = (df_combo.ebay_price / df_combo.price_delta * 100 - 100).round(2)\n",
    "df_combo.head(5)\n"
   ]
  },
  {
   "cell_type": "code",
   "execution_count": null,
   "metadata": {},
   "outputs": [],
   "source": []
  },
  {
   "source": [
    "### Time History Plot of PS5 Prices"
   ],
   "cell_type": "markdown",
   "metadata": {}
  },
  {
   "cell_type": "code",
   "execution_count": null,
   "metadata": {},
   "outputs": [],
   "source": [
    "# dates = df_ebay[\"date\"].values\n",
    "# ebay_price = df_ebay[\"price\"].values\n",
    "# plt.scatter(dates,ebay_price)\n",
    "\n",
    "plt.scatter(df_ebay[\"date\"].values,df_ebay[\"price\"].values)\n",
    "plt.show()\n"
   ]
  },
  {
   "cell_type": "code",
   "execution_count": null,
   "metadata": {},
   "outputs": [],
   "source": [
    "fig, ax = plt.subplots(figsize=(10,4))\n",
    "sns.lineplot(x = df_ebay[\"date\"].values,\n",
    "    y = df_ebay[\"price\"].values,\n",
    "    color = 'r',\n",
    "    ax = ax)\n",
    "sns.lineplot(x = df_msrp[\"date\"].values,\n",
    "    y = df_msrp[\"price\"].values,\n",
    "    color = 'b',\n",
    "    ax = ax)\n",
    "ax2 = ax.twinx()\n",
    "ax.legend(['eBay','MSRP'], facecolor='w')\n",
    "ax.set(xlabel=\"Date\",ylabel=\"Price\")\n",
    "plt.title(\"PlayStation 5 Price History\")\n",
    "plt.show()\n"
   ]
  },
  {
   "source": [
    "###  What is the percent markup being charged by scalpers on the PS5?"
   ],
   "cell_type": "markdown",
   "metadata": {}
  },
  {
   "cell_type": "code",
   "execution_count": null,
   "metadata": {},
   "outputs": [],
   "source": [
    "fig, ax = plt.subplots(figsize=(10,4))\n",
    "sns.scatterplot(x = df_combo[\"date\"].values,\n",
    "    y = df_combo[\"percent_markup\"].values,\n",
    "    color = 'r',\n",
    "    ax = ax)\n",
    "\n",
    "ax.legend(['% markup'], facecolor='w')\n",
    "ax.set(xlabel=\"Date\",ylabel=\"% Markup\")\n",
    "plt.title(\"PlayStation 5 Third Party Markup History\")\n",
    "plt.show()"
   ]
  },
  {
   "cell_type": "code",
   "execution_count": null,
   "metadata": {},
   "outputs": [],
   "source": [
    "#### What if iPad Air 64GB (4th gen) at $599 is scalped at these rates?"
   ]
  },
  {
   "cell_type": "code",
   "execution_count": null,
   "metadata": {},
   "outputs": [],
   "source": [
    "df_combo[\"ipad\"] = ( df_combo[\"percent_markup\"] / 100 + 1 ) * 599\n",
    "\n",
    "fig, ax = plt.subplots(figsize=(10,4))\n",
    "sns.lineplot(x = df_combo[\"date\"].values,\n",
    "    y = df_combo[\"ipad\"].values,\n",
    "    color = 'r',\n",
    "    ax = ax)\n",
    "ax.legend(['iPad'], facecolor='w')\n",
    "ax.set(xlabel=\"Date\",ylabel=\"Price\")\n",
    "plt.title(\"iPad Air (64GB 4th gen) Scalper Comparison\")\n",
    "plt.show()"
   ]
  },
  {
   "cell_type": "code",
   "execution_count": null,
   "metadata": {},
   "outputs": [],
   "source": [
    "#### What if MacBook Pro 13\" ($1299) was scalped at these rates?"
   ]
  },
  {
   "cell_type": "code",
   "execution_count": null,
   "metadata": {},
   "outputs": [],
   "source": [
    "df_combo[\"macbook\"] = ( df_combo[\"percent_markup\"] / 100 + 1 ) * 1299\n",
    "\n",
    "fig, ax = plt.subplots(figsize=(10,4))\n",
    "sns.lineplot(x = df_combo[\"date\"].values,\n",
    "    y = df_combo[\"macbook\"].values,\n",
    "    color = 'r',\n",
    "    ax = ax)\n",
    "ax.legend(['MacBook Pro 13\"'], facecolor='w')\n",
    "ax.set(xlabel=\"Date\",ylabel=\"Price\")\n",
    "plt.title('MacBook Pro 13\" Scalper Comparison')\n",
    "plt.show()"
   ]
  },
  {
   "source": [
    "### What if this same markup was applied to chapstick (MSRP $1.99) or Dove Deep Moisture Nourishing Body Wash(MSRP $5.89)?\n",
    "\n",
    "(https://www.target.com/p/dove-deep-moisture-nourishing-body-wash-for-dry-skin-22-fl-oz/-/A-11695274)"
   ],
   "cell_type": "markdown",
   "metadata": {}
  },
  {
   "cell_type": "code",
   "execution_count": null,
   "metadata": {},
   "outputs": [],
   "source": [
    "df_combo[\"chapstick\"] = ( df_combo[\"percent_markup\"] / 100 + 1 )* 1.99\n",
    "df_combo[\"bodywash\"] = ( df_combo[\"percent_markup\"] / 100 + 1 ) * 5.89\n",
    "\n",
    "fig, ax = plt.subplots(figsize=(10,4))\n",
    "sns.lineplot(x = df_combo[\"date\"].values,\n",
    "    y = df_combo[\"chapstick\"].values,\n",
    "    color = 'r',\n",
    "    ax = ax)\n",
    "sns.lineplot(x = df_combo[\"date\"].values,\n",
    "    y = df_combo[\"bodywash\"].values,\n",
    "    color = 'b',\n",
    "    ax = ax)\n",
    "ax.legend(['ChapStick','Dove Body Wash'], facecolor='w')\n",
    "ax.set(xlabel=\"Date\",ylabel=\"Price\")\n",
    "plt.title(\"Common Item Scalper Comparison\")\n",
    "plt.show()"
   ]
  },
  {
   "cell_type": "code",
   "execution_count": null,
   "metadata": {},
   "outputs": [],
   "source": [
    "df_combo.index.values\n",
    "df_combo[\"percent_markup\"].values"
   ]
  },
  {
   "source": [
    "### Fitting the markup data with a non-linear regression"
   ],
   "cell_type": "markdown",
   "metadata": {}
  },
  {
   "cell_type": "code",
   "execution_count": null,
   "metadata": {},
   "outputs": [],
   "source": [
    "df_combo[\"days_since_release\"] = df_combo.index.values\n",
    "df_combo.head(5)\n",
    "\n"
   ]
  },
  {
   "cell_type": "code",
   "execution_count": null,
   "metadata": {},
   "outputs": [],
   "source": [
    "where_do_we_go_now_plot= sns.lmplot(x=\"days_since_release\", y=\"percent_markup\", data=df_combo, order=9, ci=None, scatter_kws={\"s\": 80})"
   ]
  },
  {
   "cell_type": "code",
   "execution_count": null,
   "metadata": {},
   "outputs": [],
   "source": [
    "orchestra = sns.violinplot(x=df_ebay[\"price\"], inner=\"box\", orient='')"
   ]
  },
  {
   "cell_type": "code",
   "execution_count": null,
   "metadata": {},
   "outputs": [],
   "source": [
    "# Above is a representation of the entire data set as a violin plot. This shows the majority of sales happen between $400-$500, then $700-$900, with outliers from $200-$1600+."
   ]
  },
  {
   "cell_type": "code",
   "execution_count": null,
   "metadata": {},
   "outputs": [],
   "source": [
    "mean_ = df_ebay[\"price\"].mean()\n",
    "median_ = df_ebay[\"price\"].median()\n",
    "mode_ = df_ebay[\"price\"].mode()\n",
    "\n",
    "mean_"
   ]
  },
  {
   "source": [
    "# Here we see that the mean of the scalped prices is $708.\n"
   ],
   "cell_type": "markdown",
   "metadata": {}
  },
  {
   "cell_type": "code",
   "execution_count": null,
   "metadata": {},
   "outputs": [],
   "source": [
    "orchestra = sns.violinplot(x=df_real_ebay['Price'], inner='box')"
   ]
  },
  {
   "source": [
    "# Monday Violin\n"
   ],
   "cell_type": "markdown",
   "metadata": {}
  },
  {
   "cell_type": "code",
   "execution_count": null,
   "metadata": {},
   "outputs": [],
   "source": [
    "mean_ = df_real_ebay.mean()\n",
    "mean_"
   ]
  },
  {
   "cell_type": "code",
   "execution_count": null,
   "metadata": {},
   "outputs": [],
   "source": [
    "df_ebay_tues = pd.read_csv(\"./data/ebay_data_tuesday.csv\")\n",
    "orchestra = sns.violinplot(x=df_ebay_tues['Price'], inner='box')"
   ]
  },
  {
   "source": [
    "# Tuesday Violin"
   ],
   "cell_type": "markdown",
   "metadata": {}
  },
  {
   "cell_type": "code",
   "execution_count": null,
   "metadata": {},
   "outputs": [],
   "source": [
    "mean_ = df_ebay_tues.mean()\n",
    "mean_"
   ]
  },
  {
   "cell_type": "code",
   "execution_count": null,
   "metadata": {},
   "outputs": [],
   "source": []
  },
  {
   "source": [
    "### Line Plots of the PS5 MSRP and Secondary Market with Sony Units Sold Count as Bar Chart\n",
    "\n",
    "Search the linked site for \"Or, we can combine a bar chart and a line chart with the same x-axis but different y-axis:\" to get more information on how to make it.  The site is already listed in the README.\n",
    "\n",
    "https://towardsdatascience.com/a-step-by-step-guide-for-creating-advanced-python-data-visualizations-with-seaborn-matplotlib-1579d6a1a7d0"
   ],
   "cell_type": "markdown",
   "metadata": {}
  },
  {
   "source": [
    "### Violin Chart for each day PS5 has been released... grouping by day, height by max to min price, width of units sold on ebay"
   ],
   "cell_type": "markdown",
   "metadata": {}
  },
  {
   "cell_type": "code",
   "execution_count": null,
   "metadata": {},
   "outputs": [],
   "source": [
    "fig, ax = plt.subplots(figsize=(10,4))\n",
    "sns.scatterplot(x = df_ebay[\"date\"].values,\n",
    "    y = df_ebay[\"price\"].values,\n",
    "    color = 'r',\n",
    "    ax = ax)\n",
    "sns.scatterplot(x = df_msrp[\"date\"].values,\n",
    "    y = df_msrp[\"price\"].values,\n",
    "    color = 'b',\n",
    "    ax = ax)\n",
    "\n",
    "# ax2 = ax.twinx()\n",
    "# sns.scatterplot(x = df_combo[\"date\"].values,\n",
    "#     y = df_combo[\"percent_markup\"].values,\n",
    "#     color = \"orange\",\n",
    "#     ax = ax2)\n",
    "\n",
    "ax = df_combo.plot(secondary_y=[\"percent_markup\"])\n",
    "\n",
    "ax.legend(['eBay','MSRP','% markup'], facecolor='w')\n",
    "# ax2.legend(['% markup'], facecolor='w')\n",
    "# ax2.set(ylim(0,500))\n",
    "ax.set(xlabel=\"Date\",ylabel=\"Price\")\n",
    "# ax.right_ax.set_ylabel('% Markup')\n",
    "plt.title(\"PlayStation 5 Price History\")\n",
    "plt.show()"
   ]
  },
  {
   "cell_type": "code",
   "execution_count": null,
   "metadata": {},
   "outputs": [],
   "source": []
  }
 ]
}