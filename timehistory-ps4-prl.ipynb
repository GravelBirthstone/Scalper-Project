{
 "metadata": {
  "language_info": {
   "codemirror_mode": {
    "name": "ipython",
    "version": 3
   },
   "file_extension": ".py",
   "mimetype": "text/x-python",
   "name": "python",
   "nbconvert_exporter": "python",
   "pygments_lexer": "ipython3",
   "version": "3.9.0-final"
  },
  "orig_nbformat": 2,
  "kernelspec": {
   "name": "python3",
   "display_name": "Python 3.9.0 64-bit ('.venv')",
   "metadata": {
    "interpreter": {
     "hash": "e69f558aa801000e73aac2691c34088c10c2a3208d0b5e8bc06443ca6cb51a3f"
    }
   }
  }
 },
 "nbformat": 4,
 "nbformat_minor": 2,
 "cells": [
  {
   "source": [
    "# Scalper's Statistics:  PlayStation 5\n",
    "### By Lee Thomas, Taylor Johnson, Alex Peña, and Paul Leonard\n",
    "#### December 2020"
   ],
   "cell_type": "markdown",
   "metadata": {}
  },
  {
   "source": [
    "##### Import related libraries"
   ],
   "cell_type": "markdown",
   "metadata": {}
  },
  {
   "cell_type": "code",
   "execution_count": null,
   "metadata": {},
   "outputs": [],
   "source": [
    "import pandas as pd\n",
    "import numpy as np\n",
    "import matplotlib as mpl\n",
    "import matplotlib.pyplot as plt\n",
    "import seaborn as sns\n",
    "from sklearn.linear_model import LinearRegression\n",
    "from sklearn.svm import SVR\n",
    "from datetime import datetime\n"
   ]
  },
  {
   "source": [
    "##### Import data sets"
   ],
   "cell_type": "markdown",
   "metadata": {}
  },
  {
   "cell_type": "code",
   "execution_count": null,
   "metadata": {},
   "outputs": [],
   "source": [
    "df_ebay = pd.read_csv(\"./data/ps4_scalped.csv\")\n",
    "df_msrp = pd.read_csv(\"./data/ps4_msrp.csv\")\n",
    "df_real_ebay = pd.read_csv(\"./fake-data/ebay_data.csv\")"
   ]
  },
  {
   "cell_type": "code",
   "execution_count": null,
   "metadata": {},
   "outputs": [],
   "source": [
    "df_ebay.head(5)\n",
    "df_msrp.head(5)"
   ]
  },
  {
   "source": [
    "##### Combine datafames"
   ],
   "cell_type": "markdown",
   "metadata": {}
  },
  {
   "cell_type": "code",
   "execution_count": null,
   "metadata": {},
   "outputs": [],
   "source": [
    "# consider combining each of the dataframes into one large one called df_ps5\n",
    "# https://pandas.pydata.org/pandas-docs/stable/user_guide/merging.html\n",
    "\n",
    "# dfs_to_combine = [df_ebay,df_msrp]\n",
    "# df_combo = pd.concat(dfs_to_combine)\n",
    "# df_combo.head(5)\n",
    "\n",
    "df_combo = df_msrp\n",
    "df_combo[\"ebay\"] = df_ebay[\"price\"]\n",
    "df_combo[\"price_delta\"] = df_combo.ebay - df_combo.price\n",
    "df_combo[\"percent_markup\"] = (df_combo.ebay / df_combo.price * 100 - 100).round(2)\n",
    "\n",
    "# NEED TO GET DATES TO DATETIME OBJECTS TO FIGURE OUT DAYS SINCE RELEASE\n",
    "# df_combo[\"date_object\"] = datetime.strptime(df_combo[\"date\"],'%m/%d/%y')\n",
    "# df_combo[\"date_object\"] = datetime.fromisoformat(str(df_combo[\"date\"]))\n",
    "# above did not work... need to use pandas datetools parser to get things sorted out; think it has to use pd.apply()... check out this page:\n",
    "# https://stackoverflow.com/questions/18618288/how-do-i-convert-dates-into-iso-8601-datetime-format-in-a-pandas-dataframe\n",
    "\n",
    "# AFTER TO A DATETIME OBJECT... USE MATH OF THIS SORT TO CALCULATE THE DURATION\n",
    "df_combo[\"days_since_release\"] = df_combo[\"date_object\"] - df_combo[\"date_object\"].min\n",
    "\n",
    "df_combo.head(5)\n"
   ]
  },
  {
   "cell_type": "code",
   "execution_count": null,
   "metadata": {},
   "outputs": [],
   "source": []
  },
  {
   "source": [
    "## Time History Plot of PS5 Prices"
   ],
   "cell_type": "markdown",
   "metadata": {}
  },
  {
   "cell_type": "code",
   "execution_count": null,
   "metadata": {},
   "outputs": [],
   "source": [
    "plt.subplots(figsize=(10,4))\n",
    "plt.scatter(df_ebay[\"date\"].values,df_ebay[\"price\"].values)\n",
    "plt.xticks(rotation='vertical')\n",
    "plt.grid(True)\n",
    "\n",
    "plt.show()\n"
   ]
  },
  {
   "cell_type": "code",
   "execution_count": null,
   "metadata": {},
   "outputs": [],
   "source": [
    "fig, ax = plt.subplots(figsize=(10,4))\n",
    "g = sns.lineplot(x = df_ebay[\"date\"].values,\n",
    "    y = df_ebay[\"price\"].values,\n",
    "    color = 'r',\n",
    "    ax = ax)\n",
    "sns.lineplot(x = df_msrp[\"date\"].values,\n",
    "    y = df_msrp[\"price\"].values,\n",
    "    color = 'b',\n",
    "    ax = ax)\n",
    "ax2 = ax.twinx()\n",
    "ax.legend(['eBay','MSRP'], facecolor='w')\n",
    "ax.set(xlabel=\"Date\",ylabel=\"Price\")\n",
    "plt.title(\"PlayStation 5 Price History\")\n",
    "plt.xticks(rotation='vertical')\n",
    "plt.grid(True)\n",
    "g.set_xticklabels(df_ebay[\"date\"].values, rotation=45)\n",
    "\n",
    "plt.show()\n"
   ]
  },
  {
   "source": [
    "##  What is the percent markup being charged by scalpers on the PS5?"
   ],
   "cell_type": "markdown",
   "metadata": {}
  },
  {
   "cell_type": "code",
   "execution_count": null,
   "metadata": {},
   "outputs": [],
   "source": [
    "fig, ax = plt.subplots(figsize=(10,4))\n",
    "sns.scatterplot(x = df_combo[\"date\"].values,\n",
    "    y = df_combo[\"percent_markup\"].values,\n",
    "    color = 'r',\n",
    "    ax = ax)\n",
    "\n",
    "ax.legend(['% markup'], facecolor='w')\n",
    "ax.set(xlabel=\"Date\",ylabel=\"% Markup\")\n",
    "plt.title(\"PlayStation 5 Third Party Markup History\")\n",
    "plt.xticks(rotation='vertical')\n",
    "plt.grid(True)\n",
    "\n",
    "plt.show()"
   ]
  },
  {
   "source": [
    "## What if iPad Air 64GB (4th gen) at $599 is scalped at these rates?"
   ],
   "cell_type": "markdown",
   "metadata": {}
  },
  {
   "cell_type": "code",
   "execution_count": null,
   "metadata": {},
   "outputs": [],
   "source": [
    "df_combo[\"ipad\"] = ( df_combo[\"percent_markup\"] / 100 + 1 ) * 599\n",
    "\n",
    "fig, ax = plt.subplots(figsize=(10,4))\n",
    "sns.lineplot(x = df_combo[\"date\"].values,\n",
    "    y = df_combo[\"ipad\"].values,\n",
    "    color = 'r',\n",
    "    ax = ax)\n",
    "ax.legend(['iPad'], facecolor='w')\n",
    "ax.set(xlabel=\"Date\",ylabel=\"Price\")\n",
    "plt.title(\"iPad Air (64GB 4th gen) Scalper Comparison\")\n",
    "plt.xticks(rotation='vertical')\n",
    "plt.grid(True)\n",
    "\n",
    "\n",
    "plt.show()"
   ]
  },
  {
   "source": [
    "## What if MacBook Pro 13\" ($1299) was scalped at these rates?"
   ],
   "cell_type": "markdown",
   "metadata": {}
  },
  {
   "cell_type": "code",
   "execution_count": null,
   "metadata": {},
   "outputs": [],
   "source": [
    "df_combo[\"macbook\"] = ( df_combo[\"percent_markup\"] / 100 + 1 ) * 1299\n",
    "\n",
    "fig, ax = plt.subplots(figsize=(12,4))\n",
    "sns.lineplot(x = df_combo[\"date\"].values,\n",
    "    y = df_combo[\"macbook\"].values,\n",
    "    color = 'r',\n",
    "    ax = ax)\n",
    "ax.legend(['MacBook Pro 13\"'], facecolor='w')\n",
    "ax.set(xlabel=\"Date\",ylabel=\"Price\")\n",
    "plt.title('MacBook Pro 13\" Scalper Comparison')\n",
    "plt.xticks(rotation=45)\n",
    "plt.grid(True)\n",
    "\n",
    "\n",
    "plt.show()"
   ]
  },
  {
   "source": [
    "## What if this same markup was applied to chapstick (MSRP $1.99) or Dove Deep Moisture Nourishing Body Wash(MSRP $5.89)?\n",
    "\n",
    "(https://www.target.com/p/dove-deep-moisture-nourishing-body-wash-for-dry-skin-22-fl-oz/-/A-11695274)"
   ],
   "cell_type": "markdown",
   "metadata": {}
  },
  {
   "cell_type": "code",
   "execution_count": null,
   "metadata": {},
   "outputs": [],
   "source": [
    "df_combo[\"chapstick\"] = ( df_combo[\"percent_markup\"] / 100 + 1 )* 1.99\n",
    "df_combo[\"bodywash\"] = ( df_combo[\"percent_markup\"] / 100 + 1 ) * 5.89\n",
    "\n",
    "fig, ax = plt.subplots(figsize=(10,4))\n",
    "sns.lineplot(x = df_combo[\"date\"].values,\n",
    "    y = df_combo[\"chapstick\"].values,\n",
    "    color = 'r',\n",
    "    ax = ax)\n",
    "sns.lineplot(x = df_combo[\"date\"].values,\n",
    "    y = df_combo[\"bodywash\"].values,\n",
    "    color = 'b',\n",
    "    ax = ax)\n",
    "ax.legend(['ChapStick','Dove Body Wash'], facecolor='w')\n",
    "ax.set(xlabel=\"Date\",ylabel=\"Price\")\n",
    "plt.title(\"Common Item Scalper Comparison\")\n",
    "plt.xticks(rotation='vertical')\n",
    "plt.grid(True)\n",
    "\n",
    "plt.show()"
   ]
  },
  {
   "cell_type": "code",
   "execution_count": null,
   "metadata": {},
   "outputs": [],
   "source": [
    "df_combo.index.values\n",
    "df_combo[\"percent_markup\"].values"
   ]
  },
  {
   "source": [
    "## Fitting the markup data with a non-linear regression"
   ],
   "cell_type": "markdown",
   "metadata": {}
  },
  {
   "cell_type": "code",
   "execution_count": null,
   "metadata": {},
   "outputs": [],
   "source": [
    "# delete the next line once this is calculated at the generation of df_combo\n",
    "df_combo[\"days_since_release\"] = df_combo.index.values\n",
    "df_combo.head(5)\n",
    "\n"
   ]
  },
  {
   "cell_type": "code",
   "execution_count": null,
   "metadata": {},
   "outputs": [],
   "source": [
    "ps5regressionplot = sns.lmplot(x=\"days_since_release\", y=\"percent_markup\", data=df_combo, order=3,  ci=None, line_kws={'color': 'red'}, scatter_kws={\"s\": 80}, height=5, aspect=2)\n",
    "\n",
    "\n",
    "ps5regressionplot.set(\n",
    "    title=\"Regression Fit for PS5 Third Party Prices\",\n",
    "    xlim=(0,50),\n",
    "    # xticks=[50,100,150,200,250,300,350,400,450,500,550,600,650,700,750,800,850,900,950,1000],\n",
    "    ylim=(0,250),\n",
    "    yticks=[0,50,100,150,200,250],)\n",
    "# ps5regressionplot.suptitle('bold figure suptitle', fontsize=14, fontweight='bold')"
   ]
  },
  {
   "source": [
    "## In defining the regression, we knew we wanted to keep the order low, so we started generating regression with a quadratic and 3rd order regressions... However, in plotting and visually testing the results for fit, we saw that a higher order regression was needed.  (Otherwise... buy your PS5 now!!)"
   ],
   "cell_type": "markdown",
   "metadata": {}
  },
  {
   "source": [
    "ps5regressionplot = sns.lmplot(x=\"days_since_release\", y=\"percent_markup\", data=df_combo, order=3,  ci=None, line_kws={'color': 'red'}, scatter_kws={\"s\": 80}, height=5, aspect=2)\n",
    "\n",
    "\n",
    "ps5regressionplot.set(\n",
    "    title=\"Regression Fit for PS5 Third Party Prices\",\n",
    "    xlim=(0,1000),\n",
    "    xticks=[50,100,150,200,250,300,350,400,450,500,550,600,650,700,750,800,850,900,950,1000],\n",
    "    ylim=(0,400),\n",
    "    yticks=[0,50,100,150,200,250,300,350,400],)\n",
    "# ps5regressionplot.suptitle('bold figure suptitle', fontsize=14, fontweight='bold')"
   ],
   "cell_type": "code",
   "metadata": {},
   "execution_count": null,
   "outputs": []
  },
  {
   "source": [
    "## OK... seaborn will not give regression line equations... so let's try SKlearn with Support Vector Regression (SVR)"
   ],
   "cell_type": "markdown",
   "metadata": {}
  },
  {
   "cell_type": "code",
   "execution_count": null,
   "metadata": {},
   "outputs": [],
   "source": [
    "X=df_combo[\"days_since_release\"].values.reshape(-1,1)\n",
    "y=df_combo[\"percent_markup\"].values\n",
    "\n",
    "svr_rbf = SVR(kernel='rbf', C=100, gamma=0.1, epsilon=.1)\n",
    "svr_lin = SVR(kernel='linear', C=100, gamma='auto')\n",
    "svr_poly = SVR(kernel='poly', C=100, gamma='auto', degree=3, epsilon=.1, coef0=1)\n",
    "\n",
    "lw=2\n",
    "\n",
    "svrs = [svr_rbf, svr_lin, svr_poly]\n",
    "kernel_label = ['RBF', 'Linear', 'Polynomial']\n",
    "model_color = ['m', 'c', 'g']\n",
    "\n",
    "fig, axes = plt.subplots(nrows=3, ncols=1, figsize=(15,15), sharex=True)\n",
    "for ix, svr in enumerate(svrs):\n",
    "    axes[ix].plot(X, svr.fit(X, y).predict(X), color=model_color[ix], lw=lw, label='{} model'.format(kernel_label[ix]))\n",
    "    axes[ix].scatter(X[svr.support_], y[svr.support_], facecolor=\"none\", edgecolor=model_color[ix], s=50, label='{} support vectors'.format(kernel_label[ix]))    \n",
    "    axes[ix].scatter(X[np.setdiff1d(np.arange(len(X)), svr.support_)], y[np.setdiff1d(np.arange(len(X)), svr.support_)], facecolor=\"none\", edgecolor=\"k\", s=50, label='other training data')\n",
    "    axes[ix].legend(loc='upper center', bbox_to_anchor=(0.5, 1.1), ncol=1, fancybox=True, shadow=True)    \n",
    "\n",
    "fig.text(0.5, 0.04, 'Days Since Initial Release', ha='center', va='center')\n",
    "fig.text(0.06, 0.5, 'Third Party Price', ha='center', va='center', rotation='vertical')\n",
    "fig.suptitle(\"PS4 Third Party Prices for Days Since Initial Release\\nSupport Vector Regression\", fontsize=14)\n",
    "plt.show()"
   ]
  },
  {
   "source": [
    "## Hexbin plot with distributions:  shows heat map of sale price/volume density;  x-axis days; y-axis price"
   ],
   "cell_type": "markdown",
   "metadata": {}
  },
  {
   "cell_type": "code",
   "execution_count": null,
   "metadata": {},
   "outputs": [],
   "source": [
    "orchestra = sns.violinplot(x=df_ebay[\"price\"], inner=\"box\", orient='')"
   ]
  },
  {
   "cell_type": "code",
   "execution_count": null,
   "metadata": {},
   "outputs": [],
   "source": [
    "# Above is a representation of the entire data set as a violin plot. This shows the majority of sales happen between $400-$500, then $700-$900, with outliers from $200-$1600+."
   ]
  },
  {
   "cell_type": "code",
   "execution_count": null,
   "metadata": {},
   "outputs": [],
   "source": [
    "mean_ = df_ebay[\"price\"].mean()\n",
    "median_ = df_ebay[\"price\"].median()\n",
    "mode_ = df_ebay[\"price\"].mode()\n",
    "\n",
    "mean_"
   ]
  },
  {
   "source": [
    "# Here we see that the mean of the scalped prices is $708.\n"
   ],
   "cell_type": "markdown",
   "metadata": {}
  },
  {
   "cell_type": "code",
   "execution_count": null,
   "metadata": {},
   "outputs": [],
   "source": [
    "orchestra = sns.violinplot(x=df_real_ebay['Price'], inner='box')"
   ]
  },
  {
   "source": [
    "# Monday Violin\n"
   ],
   "cell_type": "markdown",
   "metadata": {}
  },
  {
   "cell_type": "code",
   "execution_count": null,
   "metadata": {},
   "outputs": [],
   "source": [
    "mean_ = df_real_ebay.mean()\n",
    "mean_"
   ]
  },
  {
   "cell_type": "code",
   "execution_count": null,
   "metadata": {},
   "outputs": [],
   "source": [
    "df_ebay_tues = pd.read_csv(\"./data/ebay_data_tuesday.csv\")\n",
    "orchestra = sns.violinplot(x=df_ebay_tues['Price'], inner='box')"
   ]
  },
  {
   "source": [
    "# Tuesday Violin"
   ],
   "cell_type": "markdown",
   "metadata": {}
  },
  {
   "cell_type": "code",
   "execution_count": null,
   "metadata": {},
   "outputs": [],
   "source": [
    "mean_ = df_ebay_tues.mean()\n",
    "mean_"
   ]
  },
  {
   "cell_type": "code",
   "execution_count": null,
   "metadata": {},
   "outputs": [],
   "source": []
  },
  {
   "source": [
    "### Line Plots of the PS5 MSRP and Secondary Market with Sony Units Sold Count as Bar Chart\n",
    "\n",
    "Search the linked site for \"Or, we can combine a bar chart and a line chart with the same x-axis but different y-axis:\" to get more information on how to make it.  The site is already listed in the README.\n",
    "\n",
    "https://towardsdatascience.com/a-step-by-step-guide-for-creating-advanced-python-data-visualizations-with-seaborn-matplotlib-1579d6a1a7d0"
   ],
   "cell_type": "markdown",
   "metadata": {}
  },
  {
   "source": [
    "### Violin Chart for each day PS5 has been released... grouping by day, height by max to min price, width of units sold on ebay"
   ],
   "cell_type": "markdown",
   "metadata": {}
  },
  {
   "cell_type": "code",
   "execution_count": null,
   "metadata": {},
   "outputs": [],
   "source": [
    "fig, ax = plt.subplots(figsize=(10,4))\n",
    "sns.scatterplot(x = df_ebay[\"date\"].values,\n",
    "    y = df_ebay[\"price\"].values,\n",
    "    color = 'r',\n",
    "    ax = ax)\n",
    "sns.scatterplot(x = df_msrp[\"date\"].values,\n",
    "    y = df_msrp[\"price\"].values,\n",
    "    color = 'b',\n",
    "    ax = ax)\n",
    "\n",
    "# ax2 = ax.twinx()\n",
    "# sns.scatterplot(x = df_combo[\"date\"].values,\n",
    "#     y = df_combo[\"percent_markup\"].values,\n",
    "#     color = \"orange\",\n",
    "#     ax = ax2)\n",
    "\n",
    "ax = df_combo.plot(secondary_y=[\"percent_markup\"])\n",
    "\n",
    "ax.legend(['eBay','MSRP','% markup'], facecolor='w')\n",
    "# ax2.legend(['% markup'], facecolor='w')\n",
    "# ax2.set(ylim(0,500))\n",
    "ax.set(xlabel=\"Date\",ylabel=\"Price\")\n",
    "# ax.right_ax.set_ylabel('% Markup')\n",
    "plt.title(\"PlayStation 5 Price History\")\n",
    "plt.show()"
   ]
  },
  {
   "cell_type": "code",
   "execution_count": null,
   "metadata": {},
   "outputs": [],
   "source": []
  }
 ]
}