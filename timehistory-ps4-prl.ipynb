{
 "metadata": {
  "language_info": {
   "codemirror_mode": {
    "name": "ipython",
    "version": 3
   },
   "file_extension": ".py",
   "mimetype": "text/x-python",
   "name": "python",
   "nbconvert_exporter": "python",
   "pygments_lexer": "ipython3",
   "version": "3.9.0-final"
  },
  "orig_nbformat": 2,
  "kernelspec": {
   "name": "python3",
   "display_name": "Python 3.9.0 64-bit ('.venv')",
   "metadata": {
    "interpreter": {
     "hash": "e69f558aa801000e73aac2691c34088c10c2a3208d0b5e8bc06443ca6cb51a3f"
    }
   }
  }
 },
 "nbformat": 4,
 "nbformat_minor": 2,
 "cells": [
  {
   "source": [
    "# Scalper's Statistics:  PlayStation 4 (and a bit of PS5)\n",
    "### By Lee Thomas, Taylor Johnson, Alex Peña, and Paul Leonard\n",
    "#### December 2020"
   ],
   "cell_type": "markdown",
   "metadata": {}
  },
  {
   "source": [
    "##### Import related libraries"
   ],
   "cell_type": "markdown",
   "metadata": {}
  },
  {
   "cell_type": "code",
   "execution_count": null,
   "metadata": {},
   "outputs": [],
   "source": [
    "import pandas as pd\n",
    "import numpy as np\n",
    "import matplotlib as mpl\n",
    "import matplotlib.pyplot as plt\n",
    "import seaborn as sns\n",
    "from sklearn.svm import SVR\n"
   ]
  },
  {
   "source": [
    "##### Import data sets"
   ],
   "cell_type": "markdown",
   "metadata": {}
  },
  {
   "cell_type": "code",
   "execution_count": null,
   "metadata": {},
   "outputs": [],
   "source": [
    "df_ebay = pd.read_csv(\"./data/ps4_scalped.csv\")\n",
    "df_msrp = pd.read_csv(\"./data/ps4_msrp.csv\")\n",
    "df_real_ebay = pd.read_csv(\"./fake-data/ebay_data.csv\")"
   ]
  },
  {
   "source": [
    "##### Combine datafames"
   ],
   "cell_type": "markdown",
   "metadata": {}
  },
  {
   "cell_type": "code",
   "execution_count": null,
   "metadata": {},
   "outputs": [],
   "source": [
    "df_combo = df_msrp\n",
    "df_combo[\"ebay\"] = df_ebay[\"price\"]\n",
    "df_combo[\"price_delta\"] = df_combo.ebay - df_combo.price\n",
    "df_combo[\"percent_markup\"] = (df_combo.ebay / df_combo.price * 100 - 100).round(2)\n",
    "df_combo[\"days_since_release\"] = df_combo.index.values * 7"
   ]
  },
  {
   "source": [
    "## Time History Plot of PS4 Prices"
   ],
   "cell_type": "markdown",
   "metadata": {}
  },
  {
   "cell_type": "code",
   "execution_count": null,
   "metadata": {},
   "outputs": [],
   "source": [
    "fig, ax = plt.subplots(figsize=(10,4))\n",
    "g = sns.scatterplot(x = df_ebay[\"date\"].values,\n",
    "    y = df_ebay[\"price\"].values,\n",
    "    color = 'r',\n",
    "    ax = ax)\n",
    "sns.lineplot(x = df_msrp[\"date\"].values,\n",
    "    y = df_msrp[\"price\"].values,\n",
    "    color = 'b',\n",
    "    ax = ax)\n",
    "ax2 = ax.twinx()\n",
    "ax.legend(['MSRP','eBay'], facecolor='w')\n",
    "ax.set(xlabel=\"Date\",ylabel=\"Price ($)\")\n",
    "plt.title(\"PlayStation 4 Price History\")\n",
    "plt.xticks(rotation='vertical')\n",
    "plt.grid(True)\n",
    "g.set_xticklabels(df_ebay[\"date\"].values, rotation=45)\n",
    "\n",
    "plt.show()\n"
   ]
  },
  {
   "source": [
    "##  What is the percent markup being charged by scalpers on the PS4?"
   ],
   "cell_type": "markdown",
   "metadata": {}
  },
  {
   "cell_type": "code",
   "execution_count": null,
   "metadata": {},
   "outputs": [],
   "source": [
    "fig, ax = plt.subplots(figsize=(10,4))\n",
    "sns.scatterplot(x = df_combo[\"date\"].values,\n",
    "    y = df_combo[\"percent_markup\"].values,\n",
    "    color = 'r',\n",
    "    ax = ax)\n",
    "\n",
    "ax.legend(['% markup'], facecolor='w')\n",
    "ax.set(xlabel=\"Date\",ylabel=\"% Markup\")\n",
    "plt.title(\"PlayStation 4 Third Party Markup History\")\n",
    "plt.xticks(rotation='vertical')\n",
    "plt.grid(True)\n",
    "\n",
    "plt.show()"
   ]
  },
  {
   "source": [
    "## What if iPad Air 64GB (4th gen) at $599 is scalped at these rates?"
   ],
   "cell_type": "markdown",
   "metadata": {}
  },
  {
   "cell_type": "code",
   "execution_count": null,
   "metadata": {},
   "outputs": [],
   "source": [
    "df_combo[\"ipad\"] = ( df_combo[\"percent_markup\"] / 100 + 1 ) * 599\n",
    "\n",
    "fig, ax = plt.subplots(figsize=(10,4))\n",
    "sns.lineplot(x = df_combo[\"date\"].values,\n",
    "    y = df_combo[\"ipad\"].values,\n",
    "    color = 'r',\n",
    "    ax = ax)\n",
    "ax.legend(['iPad'], facecolor='w')\n",
    "ax.set(xlabel=\"Date\",ylabel=\"Price ($)\")\n",
    "plt.title(\"iPad Air (64GB 4th gen) Scalper Comparison\")\n",
    "plt.xticks(rotation='vertical')\n",
    "plt.grid(True)\n",
    "\n",
    "\n",
    "plt.show()"
   ]
  },
  {
   "source": [
    "## What if MacBook Pro 13\" ($1299) was scalped at these rates?"
   ],
   "cell_type": "markdown",
   "metadata": {}
  },
  {
   "cell_type": "code",
   "execution_count": null,
   "metadata": {},
   "outputs": [],
   "source": [
    "df_combo[\"macbook\"] = ( df_combo[\"percent_markup\"] / 100 + 1 ) * 1299\n",
    "\n",
    "fig, ax = plt.subplots(figsize=(12,4))\n",
    "sns.lineplot(x = df_combo[\"date\"].values,\n",
    "    y = df_combo[\"macbook\"].values,\n",
    "    color = 'r',\n",
    "    ax = ax)\n",
    "ax.legend(['MacBook Pro 13\"'], facecolor='w')\n",
    "ax.set(xlabel=\"Date\",ylabel=\"Price ($)\")\n",
    "plt.title('MacBook Pro 13\" Scalper Comparison')\n",
    "plt.xticks(rotation=45)\n",
    "plt.grid(True)\n",
    "\n",
    "\n",
    "plt.show()"
   ]
  },
  {
   "source": [
    "## What if this same markup was applied to chapstick (MSRP 1.99) or Dove Body Wash (MSRP 5.89)?"
   ],
   "cell_type": "markdown",
   "metadata": {}
  },
  {
   "cell_type": "code",
   "execution_count": null,
   "metadata": {},
   "outputs": [],
   "source": [
    "df_combo[\"chapstick\"] = ( df_combo[\"percent_markup\"] / 100 + 1 )* 1.99\n",
    "df_combo[\"bodywash\"] = ( df_combo[\"percent_markup\"] / 100 + 1 ) * 5.89\n",
    "\n",
    "fig, ax = plt.subplots(figsize=(10,4))\n",
    "sns.lineplot(x = df_combo[\"date\"].values,\n",
    "    y = df_combo[\"chapstick\"].values,\n",
    "    color = 'r',\n",
    "    ax = ax)\n",
    "sns.lineplot(x = df_combo[\"date\"].values,\n",
    "    y = df_combo[\"bodywash\"].values,\n",
    "    color = 'b',\n",
    "    ax = ax)\n",
    "ax.legend(['ChapStick','Dove Body Wash'], facecolor='w')\n",
    "ax.set(xlabel=\"Date\",ylabel=\"Price ($)\")\n",
    "plt.title(\"Common Item Scalper Comparison\")\n",
    "plt.xticks(rotation='vertical')\n",
    "plt.grid(True)\n",
    "\n",
    "plt.show()"
   ]
  },
  {
   "source": [
    "## Fitting the markup data with a non-linear regression"
   ],
   "cell_type": "markdown",
   "metadata": {}
  },
  {
   "source": [
    "ps5regressionplot = sns.lmplot(x=\"days_since_release\", y=\"percent_markup\", data=df_combo, order=3,  ci=None, line_kws={'color': 'red'}, scatter_kws={\"s\": 80}, height=5, aspect=2)\n",
    "\n",
    "ps5regressionplot.set(\n",
    "    title=\"Regression Fit for PS4 Third Party Prices\",\n",
    "    xlim=(0,200),\n",
    "    xticks=[50,100,150,200],\n",
    "    ylim=(0,300),\n",
    "    yticks=[0,50,100,150,200,250,300])"
   ],
   "cell_type": "code",
   "metadata": {},
   "execution_count": null,
   "outputs": []
  },
  {
   "source": [
    "## Regression Performed with SKlearn: Support Vector Regression (SVR)"
   ],
   "cell_type": "markdown",
   "metadata": {}
  },
  {
   "cell_type": "code",
   "execution_count": null,
   "metadata": {},
   "outputs": [],
   "source": [
    "#PS4 historical data to create regression lines\n",
    "df_combo[\"weeks_since_release\"] = df_combo.index.values\n",
    "#had to not multiply by 7 to reduce processing needed\n",
    "X=df_combo[\"weeks_since_release\"].values.reshape(-1,1)\n",
    "y=df_combo[\"percent_markup\"].values\n",
    "\n",
    "svr_rbf = SVR(kernel='rbf', C=100, gamma=0.1, epsilon=.1)\n",
    "svr_lin = SVR(kernel='linear', C=100, gamma='auto')\n",
    "svr_poly = SVR(kernel='poly', C=100, gamma='auto', degree=3, epsilon=.1, coef0=1)\n",
    "\n",
    "lw=2\n",
    "\n",
    "svrs = [svr_rbf, svr_lin, svr_poly]\n",
    "kernel_label = ['RBF', 'Linear', 'Polynomial']\n",
    "model_color = ['m', 'c', 'g']\n",
    "\n",
    "fig, axes = plt.subplots(nrows=4, ncols=1, figsize=(20,15), sharex=True)\n",
    "for ix, svr in enumerate(svrs):\n",
    "    axes[ix].plot(X, svr.fit(X, y).predict(X), color=model_color[ix], lw=lw, label='{} model'.format(kernel_label[ix]))\n",
    "    axes[ix].scatter(X[svr.support_], y[svr.support_], facecolor=\"none\", edgecolor=model_color[ix], s=50, label='{} support vectors'.format(kernel_label[ix]))    \n",
    "    axes[ix].scatter(X[np.setdiff1d(np.arange(len(X)), svr.support_)], y[np.setdiff1d(np.arange(len(X)), svr.support_)], facecolor=\"none\", edgecolor=\"k\", s=50, label='other training data')\n",
    "    axes[ix].legend(loc='upper center', bbox_to_anchor=(0.5, 1.1), ncol=1, fancybox=True, shadow=True)    \n",
    "\n",
    "#plot best fit line with PS5 actual data\n",
    "# sold data range 11/30-12/8.... ps5 release date 11/12\n",
    "ps5_weeks_since_sale = [2.6,2.7,2.9,3.0,3.1,3.3,3.4,3.6,3.7]\n",
    "\n",
    "ps5_sold_avg = [1000,1000,1000,1000,1000,1000,1000,1000,1000]\n",
    "\n",
    "ps5_msrp = 399\n",
    "ps5_percent_markup = [x / ps5_msrp * 100 - 1 for x in ps5_sold_avg]\n",
    "\n",
    "axes[3].plot(X, svrs[0].fit(X, y).predict(X), color='m', lw=lw, label='RBF Model based on PS4 Data')\n",
    "axes[3].scatter(ps5_weeks_since_sale, ps5_percent_markup, facecolor=\"none\", edgecolor='b', s=50, label='PS5 Markup Data') \n",
    "axes[3].legend(loc='upper center', bbox_to_anchor=(0.5, 1.1), ncol=1, fancybox=True, shadow=True)    \n",
    "\n",
    "fig.text(0.5, 0.04, 'Weeks Since Initial Release', ha='center', va='center')\n",
    "fig.text(0.06, 0.5, 'Third Party Price', ha='center', va='center', rotation='vertical')\n",
    "fig.suptitle(\"PS4 Third Party Prices for Days Since Initial Release\\nSupport Vector Regression\", fontsize=14)\n",
    "plt.show()\n",
    "\n"
   ]
  }
 ]
}